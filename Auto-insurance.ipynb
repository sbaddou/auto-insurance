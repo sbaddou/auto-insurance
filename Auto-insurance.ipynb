{
 "cells": [
  {
   "cell_type": "markdown",
   "metadata": {},
   "source": [
    "<div style=\"font-size:22pt; line-height:25pt; font-weight:bold; text-align:center;\">Classification on Auto Insurance Dataset</div>\n",
    "\n",
    "<br><br><br>\n",
    "\n",
    "\n",
    "\n",
    "The objective of this notebook is the analysis of an Auto Insurance dataset. We will explore the dataset and then build a supervised classifier"
   ]
  },
  {
   "cell_type": "markdown",
   "metadata": {},
   "source": [
    "# 1. <a id=\"sec1\"></a>Data Exploration and Preprocessing\n",
    "We will first look at the data and make it usable to build a prediction model <br>\n",
    "## <a id=\"sec3-1\"></a> 1.1 Data Description"
   ]
  },
  {
   "cell_type": "code",
   "execution_count": 1,
   "metadata": {},
   "outputs": [],
   "source": [
    "import pandas as pd\n",
    "import seaborn as sns\n",
    "import matplotlib.pyplot as plt\n",
    "import numpy as np\n",
    "\n",
    "FOLDER_PATH = '/Users/salimbaddou/DESCARTES/auto-insurance-fall-2017/'\n",
    "\n",
    "df = pd.read_csv(FOLDER_PATH + '/train_auto.csv')"
   ]
  },
  {
   "cell_type": "code",
   "execution_count": 2,
   "metadata": {},
   "outputs": [
    {
     "data": {
      "text/html": [
       "<div>\n",
       "<style scoped>\n",
       "    .dataframe tbody tr th:only-of-type {\n",
       "        vertical-align: middle;\n",
       "    }\n",
       "\n",
       "    .dataframe tbody tr th {\n",
       "        vertical-align: top;\n",
       "    }\n",
       "\n",
       "    .dataframe thead th {\n",
       "        text-align: right;\n",
       "    }\n",
       "</style>\n",
       "<table border=\"1\" class=\"dataframe\">\n",
       "  <thead>\n",
       "    <tr style=\"text-align: right;\">\n",
       "      <th></th>\n",
       "      <th>INDEX</th>\n",
       "      <th>TARGET_FLAG</th>\n",
       "      <th>TARGET_AMT</th>\n",
       "      <th>KIDSDRIV</th>\n",
       "      <th>AGE</th>\n",
       "      <th>HOMEKIDS</th>\n",
       "      <th>YOJ</th>\n",
       "      <th>INCOME</th>\n",
       "      <th>PARENT1</th>\n",
       "      <th>HOME_VAL</th>\n",
       "      <th>...</th>\n",
       "      <th>BLUEBOOK</th>\n",
       "      <th>TIF</th>\n",
       "      <th>CAR_TYPE</th>\n",
       "      <th>RED_CAR</th>\n",
       "      <th>OLDCLAIM</th>\n",
       "      <th>CLM_FREQ</th>\n",
       "      <th>REVOKED</th>\n",
       "      <th>MVR_PTS</th>\n",
       "      <th>CAR_AGE</th>\n",
       "      <th>URBANICITY</th>\n",
       "    </tr>\n",
       "  </thead>\n",
       "  <tbody>\n",
       "    <tr>\n",
       "      <th>0</th>\n",
       "      <td>1</td>\n",
       "      <td>0</td>\n",
       "      <td>0.0</td>\n",
       "      <td>0</td>\n",
       "      <td>60.0</td>\n",
       "      <td>0</td>\n",
       "      <td>11.0</td>\n",
       "      <td>$67,349</td>\n",
       "      <td>No</td>\n",
       "      <td>$0</td>\n",
       "      <td>...</td>\n",
       "      <td>$14,230</td>\n",
       "      <td>11</td>\n",
       "      <td>Minivan</td>\n",
       "      <td>yes</td>\n",
       "      <td>$4,461</td>\n",
       "      <td>2</td>\n",
       "      <td>No</td>\n",
       "      <td>3</td>\n",
       "      <td>18.0</td>\n",
       "      <td>Highly Urban/ Urban</td>\n",
       "    </tr>\n",
       "    <tr>\n",
       "      <th>1</th>\n",
       "      <td>2</td>\n",
       "      <td>0</td>\n",
       "      <td>0.0</td>\n",
       "      <td>0</td>\n",
       "      <td>43.0</td>\n",
       "      <td>0</td>\n",
       "      <td>11.0</td>\n",
       "      <td>$91,449</td>\n",
       "      <td>No</td>\n",
       "      <td>$257,252</td>\n",
       "      <td>...</td>\n",
       "      <td>$14,940</td>\n",
       "      <td>1</td>\n",
       "      <td>Minivan</td>\n",
       "      <td>yes</td>\n",
       "      <td>$0</td>\n",
       "      <td>0</td>\n",
       "      <td>No</td>\n",
       "      <td>0</td>\n",
       "      <td>1.0</td>\n",
       "      <td>Highly Urban/ Urban</td>\n",
       "    </tr>\n",
       "    <tr>\n",
       "      <th>2</th>\n",
       "      <td>4</td>\n",
       "      <td>0</td>\n",
       "      <td>0.0</td>\n",
       "      <td>0</td>\n",
       "      <td>35.0</td>\n",
       "      <td>1</td>\n",
       "      <td>10.0</td>\n",
       "      <td>$16,039</td>\n",
       "      <td>No</td>\n",
       "      <td>$124,191</td>\n",
       "      <td>...</td>\n",
       "      <td>$4,010</td>\n",
       "      <td>4</td>\n",
       "      <td>z_SUV</td>\n",
       "      <td>no</td>\n",
       "      <td>$38,690</td>\n",
       "      <td>2</td>\n",
       "      <td>No</td>\n",
       "      <td>3</td>\n",
       "      <td>10.0</td>\n",
       "      <td>Highly Urban/ Urban</td>\n",
       "    </tr>\n",
       "    <tr>\n",
       "      <th>3</th>\n",
       "      <td>5</td>\n",
       "      <td>0</td>\n",
       "      <td>0.0</td>\n",
       "      <td>0</td>\n",
       "      <td>51.0</td>\n",
       "      <td>0</td>\n",
       "      <td>14.0</td>\n",
       "      <td>NaN</td>\n",
       "      <td>No</td>\n",
       "      <td>$306,251</td>\n",
       "      <td>...</td>\n",
       "      <td>$15,440</td>\n",
       "      <td>7</td>\n",
       "      <td>Minivan</td>\n",
       "      <td>yes</td>\n",
       "      <td>$0</td>\n",
       "      <td>0</td>\n",
       "      <td>No</td>\n",
       "      <td>0</td>\n",
       "      <td>6.0</td>\n",
       "      <td>Highly Urban/ Urban</td>\n",
       "    </tr>\n",
       "    <tr>\n",
       "      <th>4</th>\n",
       "      <td>6</td>\n",
       "      <td>0</td>\n",
       "      <td>0.0</td>\n",
       "      <td>0</td>\n",
       "      <td>50.0</td>\n",
       "      <td>0</td>\n",
       "      <td>NaN</td>\n",
       "      <td>$114,986</td>\n",
       "      <td>No</td>\n",
       "      <td>$243,925</td>\n",
       "      <td>...</td>\n",
       "      <td>$18,000</td>\n",
       "      <td>1</td>\n",
       "      <td>z_SUV</td>\n",
       "      <td>no</td>\n",
       "      <td>$19,217</td>\n",
       "      <td>2</td>\n",
       "      <td>Yes</td>\n",
       "      <td>3</td>\n",
       "      <td>17.0</td>\n",
       "      <td>Highly Urban/ Urban</td>\n",
       "    </tr>\n",
       "  </tbody>\n",
       "</table>\n",
       "<p>5 rows × 26 columns</p>\n",
       "</div>"
      ],
      "text/plain": [
       "   INDEX  TARGET_FLAG  TARGET_AMT  KIDSDRIV   AGE  HOMEKIDS   YOJ    INCOME  \\\n",
       "0      1            0         0.0         0  60.0         0  11.0   $67,349   \n",
       "1      2            0         0.0         0  43.0         0  11.0   $91,449   \n",
       "2      4            0         0.0         0  35.0         1  10.0   $16,039   \n",
       "3      5            0         0.0         0  51.0         0  14.0       NaN   \n",
       "4      6            0         0.0         0  50.0         0   NaN  $114,986   \n",
       "\n",
       "  PARENT1  HOME_VAL  ... BLUEBOOK TIF CAR_TYPE RED_CAR  OLDCLAIM CLM_FREQ  \\\n",
       "0      No        $0  ...  $14,230  11  Minivan     yes    $4,461        2   \n",
       "1      No  $257,252  ...  $14,940   1  Minivan     yes        $0        0   \n",
       "2      No  $124,191  ...   $4,010   4    z_SUV      no   $38,690        2   \n",
       "3      No  $306,251  ...  $15,440   7  Minivan     yes        $0        0   \n",
       "4      No  $243,925  ...  $18,000   1    z_SUV      no   $19,217        2   \n",
       "\n",
       "  REVOKED  MVR_PTS CAR_AGE           URBANICITY  \n",
       "0      No        3    18.0  Highly Urban/ Urban  \n",
       "1      No        0     1.0  Highly Urban/ Urban  \n",
       "2      No        3    10.0  Highly Urban/ Urban  \n",
       "3      No        0     6.0  Highly Urban/ Urban  \n",
       "4     Yes        3    17.0  Highly Urban/ Urban  \n",
       "\n",
       "[5 rows x 26 columns]"
      ]
     },
     "execution_count": 2,
     "metadata": {},
     "output_type": "execute_result"
    }
   ],
   "source": [
    "df.head()"
   ]
  },
  {
   "cell_type": "code",
   "execution_count": 3,
   "metadata": {},
   "outputs": [
    {
     "name": "stdout",
     "output_type": "stream",
     "text": [
      "Shape: (8161, 26)\n",
      "INDEX            int64\n",
      "TARGET_FLAG      int64\n",
      "TARGET_AMT     float64\n",
      "KIDSDRIV         int64\n",
      "AGE            float64\n",
      "HOMEKIDS         int64\n",
      "YOJ            float64\n",
      "INCOME          object\n",
      "PARENT1         object\n",
      "HOME_VAL        object\n",
      "MSTATUS         object\n",
      "SEX             object\n",
      "EDUCATION       object\n",
      "JOB             object\n",
      "TRAVTIME         int64\n",
      "CAR_USE         object\n",
      "BLUEBOOK        object\n",
      "TIF              int64\n",
      "CAR_TYPE        object\n",
      "RED_CAR         object\n",
      "OLDCLAIM        object\n",
      "CLM_FREQ         int64\n",
      "REVOKED         object\n",
      "MVR_PTS          int64\n",
      "CAR_AGE        float64\n",
      "URBANICITY      object\n",
      "dtype: object\n"
     ]
    }
   ],
   "source": [
    "print(\"Shape:\",df.shape)\n",
    "print(df.dtypes)"
   ]
  },
  {
   "cell_type": "markdown",
   "metadata": {},
   "source": [
    "There are 8126 entries in the dataset and 26 different features. Features consist both of categorical and numerical variables"
   ]
  },
  {
   "cell_type": "code",
   "execution_count": 4,
   "metadata": {},
   "outputs": [
    {
     "name": "stdout",
     "output_type": "stream",
     "text": [
      "Percentage of TARGET_FLAG tagged as 0: 74 %\n",
      "Percentage of TARGET_FLAG tagged as 1: 26 %\n"
     ]
    },
    {
     "data": {
      "image/png": "[encoded data removed]",
      "text/plain": [
       "<Figure size 432x288 with 1 Axes>"
      ]
     },
     "metadata": {
      "needs_background": "light"
     },
     "output_type": "display_data"
    }
   ],
   "source": [
    "df['TARGET_FLAG'].plot(kind='hist')\n",
    "false = df['TARGET_FLAG'].value_counts()[0]\n",
    "true = df['TARGET_FLAG'].value_counts()[1]\n",
    "p_false = false/(true+false)\n",
    "p_true = true/(true+false)\n",
    "print(\"Percentage of TARGET_FLAG tagged as 0: {} %\".format(round(p_false*100)))\n",
    "print(\"Percentage of TARGET_FLAG tagged as 1: {} %\".format(round(p_true*100)))"
   ]
  },
  {
   "cell_type": "markdown",
   "metadata": {},
   "source": [
    "The Dataset is a bit imbalanced. This will affect the type of metric we will use to qualify the quality of our predictor"
   ]
  },
  {
   "cell_type": "markdown",
   "metadata": {},
   "source": [
    "## 1.2 Preprocessing\n",
    "\n",
    "### 1.2.1 Encoding"
   ]
  },
  {
   "cell_type": "markdown",
   "metadata": {},
   "source": [
    "We need to transform number encoded as string to numerical data:"
   ]
  },
  {
   "cell_type": "code",
   "execution_count": 5,
   "metadata": {},
   "outputs": [],
   "source": [
    "string_columns = ['INCOME','HOME_VAL','BLUEBOOK','OLDCLAIM']\n",
    "\n",
    "for e in string_columns:\n",
    "    df.loc[df[e].notna(),e]  = df[df[e].notna()][e].apply(lambda x: x.split('$')[-1].replace(',',''))\n",
    "    df[e] = pd.to_numeric(df[e])\n"
   ]
  },
  {
   "cell_type": "markdown",
   "metadata": {},
   "source": [
    "We  also need to transform categorical data encoded as string to numerical data:"
   ]
  },
  {
   "cell_type": "code",
   "execution_count": 6,
   "metadata": {},
   "outputs": [],
   "source": [
    "from sklearn.preprocessing import LabelEncoder\n",
    "\n",
    "mapping = {'<High School' : 1 ,'z_High School':2 , 'Bachelors':3,'Masters':4 ,'PhD':5}\n",
    "df.EDUCATION = df.EDUCATION.map(mapping)  #for education we might preserve order relationship for shortest to longest studies\n",
    "\n",
    "\n",
    "categorical_features = ['PARENT1','MSTATUS','SEX','JOB','CAR_USE','CAR_TYPE','RED_CAR','REVOKED','URBANICITY']  \n",
    "\n",
    "for feature in categorical_features:\n",
    "    le = LabelEncoder()\n",
    "    df.loc[df[feature].notna(),feature] = le.fit_transform(df[df[feature].notna()][feature])"
   ]
  },
  {
   "cell_type": "markdown",
   "metadata": {},
   "source": [
    "### 1.2.2 Anomalies"
   ]
  },
  {
   "cell_type": "code",
   "execution_count": 7,
   "metadata": {},
   "outputs": [],
   "source": [
    "df.loc[df.CAR_AGE < 0,'CAR_AGE'] = 0  "
   ]
  },
  {
   "cell_type": "markdown",
   "metadata": {},
   "source": [
    "### 1.2.3 Missing values"
   ]
  },
  {
   "cell_type": "code",
   "execution_count": 8,
   "metadata": {},
   "outputs": [
    {
     "name": "stdout",
     "output_type": "stream",
     "text": [
      "Dataset length after deleting all rows with missing values:  6045\n"
     ]
    }
   ],
   "source": [
    "print(\"Dataset length after deleting all rows with missing values: \",df.dropna().shape[0])"
   ]
  },
  {
   "cell_type": "markdown",
   "metadata": {},
   "source": [
    "This is an important information loss. Instead of deleting rows we are going to input missing values"
   ]
  },
  {
   "cell_type": "code",
   "execution_count": 9,
   "metadata": {},
   "outputs": [
    {
     "name": "stdout",
     "output_type": "stream",
     "text": [
      "Missing values per features: \n"
     ]
    },
    {
     "data": {
      "text/plain": [
       "INDEX            0\n",
       "TARGET_FLAG      0\n",
       "TARGET_AMT       0\n",
       "KIDSDRIV         0\n",
       "AGE              6\n",
       "HOMEKIDS         0\n",
       "YOJ            454\n",
       "INCOME         445\n",
       "PARENT1          0\n",
       "HOME_VAL       464\n",
       "MSTATUS          0\n",
       "SEX              0\n",
       "EDUCATION        0\n",
       "JOB            526\n",
       "TRAVTIME         0\n",
       "CAR_USE          0\n",
       "BLUEBOOK         0\n",
       "TIF              0\n",
       "CAR_TYPE         0\n",
       "RED_CAR          0\n",
       "OLDCLAIM         0\n",
       "CLM_FREQ         0\n",
       "REVOKED          0\n",
       "MVR_PTS          0\n",
       "CAR_AGE        510\n",
       "URBANICITY       0\n",
       "dtype: int64"
      ]
     },
     "execution_count": 9,
     "metadata": {},
     "output_type": "execute_result"
    }
   ],
   "source": [
    "print(\"Missing values per features: \")\n",
    "df.isna().sum()"
   ]
  },
  {
   "cell_type": "markdown",
   "metadata": {},
   "source": [
    "Only 6 values are missing for age, we procede with mean imputation:"
   ]
  },
  {
   "cell_type": "code",
   "execution_count": 10,
   "metadata": {},
   "outputs": [],
   "source": [
    "df.AGE.fillna(df.AGE.mean(),inplace=True)"
   ]
  },
  {
   "cell_type": "code",
   "execution_count": 11,
   "metadata": {},
   "outputs": [
    {
     "data": {
      "text/plain": [
       "<AxesSubplot:xlabel='HOME_VAL', ylabel='INCOME'>"
      ]
     },
     "execution_count": 11,
     "metadata": {},
     "output_type": "execute_result"
    },
    {
     "data": {
      "image/png": "[encoded data removed]",
      "text/plain": [
       "<Figure size 432x288 with 1 Axes>"
      ]
     },
     "metadata": {
      "needs_background": "light"
     },
     "output_type": "display_data"
    }
   ],
   "source": [
    "df.plot.scatter(x='HOME_VAL',y='INCOME')"
   ]
  },
  {
   "cell_type": "markdown",
   "metadata": {},
   "source": [
    "For non zero value of HOME_VAL we can see a clear linear relationship with the feature INCOME. We will procede to a linear regression to input INCOME value with a corresponding non zero HOME_VAL value"
   ]
  },
  {
   "cell_type": "code",
   "execution_count": 12,
   "metadata": {},
   "outputs": [
    {
     "name": "stdout",
     "output_type": "stream",
     "text": [
      "[[0.45802645]]\n",
      "[-35872.34465377]\n"
     ]
    }
   ],
   "source": [
    "from sklearn.linear_model import LinearRegression\n",
    "x = df[df.INCOME.notna() & df.HOME_VAL.notna() & (df.HOME_VAL != 0)].HOME_VAL\n",
    "y = df[df.INCOME.notna() & df.HOME_VAL.notna() &(df.HOME_VAL != 0)].INCOME\n",
    "lr = LinearRegression()\n",
    "lr.fit(x.values.reshape(-1,1),y.values.reshape(-1,1))\n",
    "print(lr.coef_)\n",
    "print(lr.intercept_)\n",
    "\n",
    "df.loc[df.INCOME.isna() & df.HOME_VAL.notna(),'INCOME'] = df[df.INCOME.isna() & df.HOME_VAL.notna()].HOME_VAL.apply(lambda x : x*lr.coef_[0][0])"
   ]
  },
  {
   "cell_type": "code",
   "execution_count": 13,
   "metadata": {},
   "outputs": [
    {
     "data": {
      "text/plain": [
       "<AxesSubplot:xlabel='EDUCATION', ylabel='INCOME'>"
      ]
     },
     "execution_count": 13,
     "metadata": {},
     "output_type": "execute_result"
    },
    {
     "data": {
      "image/png": "[encoded data removed]",
      "text/plain": [
       "<Figure size 432x288 with 1 Axes>"
      ]
     },
     "metadata": {
      "needs_background": "light"
     },
     "output_type": "display_data"
    }
   ],
   "source": [
    "df.plot.scatter(x = 'EDUCATION',y='INCOME')"
   ]
  },
  {
   "cell_type": "markdown",
   "metadata": {},
   "source": [
    "The distribution of INCOME across the EDUCATION variable can help us to input missing values for INCOME with the mean value for each level of study. The same goes for HOME_VAL and CAR_AGE."
   ]
  },
  {
   "cell_type": "code",
   "execution_count": 14,
   "metadata": {},
   "outputs": [],
   "source": [
    "df.loc[df.INCOME.isna(),'INCOME'] = df.EDUCATION.apply(lambda x : df[df['EDUCATION'] == x]['INCOME'].mean())\n",
    "df.loc[df.HOME_VAL.isna(),'HOME_VAL'] = df.EDUCATION.apply(lambda x : df[df['EDUCATION'] == x]['HOME_VAL'].mean())\n",
    "df.loc[df.CAR_AGE.isna(),'CAR_AGE'] = df.EDUCATION.apply(lambda x : round(df[df['EDUCATION'] == x]['CAR_AGE'].mean()))"
   ]
  },
  {
   "cell_type": "markdown",
   "metadata": {},
   "source": [
    "For missing JOB value we input with the most represented job among the corresponding level of study"
   ]
  },
  {
   "cell_type": "code",
   "execution_count": 15,
   "metadata": {},
   "outputs": [],
   "source": [
    "df.loc[df.JOB.isna(),'JOB'] = df[df.JOB.isna()].EDUCATION.apply(lambda x : df[df['EDUCATION'] == x]['JOB'].mode()[0])"
   ]
  },
  {
   "cell_type": "code",
   "execution_count": 16,
   "metadata": {},
   "outputs": [],
   "source": [
    "df.YOJ.fillna(df.YOJ.mode()[0],inplace=True)"
   ]
  },
  {
   "cell_type": "markdown",
   "metadata": {},
   "source": [
    "We don't have any missing values left:"
   ]
  },
  {
   "cell_type": "code",
   "execution_count": 17,
   "metadata": {},
   "outputs": [
    {
     "data": {
      "text/plain": [
       "INDEX          0\n",
       "TARGET_FLAG    0\n",
       "TARGET_AMT     0\n",
       "KIDSDRIV       0\n",
       "AGE            0\n",
       "HOMEKIDS       0\n",
       "YOJ            0\n",
       "INCOME         0\n",
       "PARENT1        0\n",
       "HOME_VAL       0\n",
       "MSTATUS        0\n",
       "SEX            0\n",
       "EDUCATION      0\n",
       "JOB            0\n",
       "TRAVTIME       0\n",
       "CAR_USE        0\n",
       "BLUEBOOK       0\n",
       "TIF            0\n",
       "CAR_TYPE       0\n",
       "RED_CAR        0\n",
       "OLDCLAIM       0\n",
       "CLM_FREQ       0\n",
       "REVOKED        0\n",
       "MVR_PTS        0\n",
       "CAR_AGE        0\n",
       "URBANICITY     0\n",
       "dtype: int64"
      ]
     },
     "execution_count": 17,
     "metadata": {},
     "output_type": "execute_result"
    }
   ],
   "source": [
    "df.isna().sum()"
   ]
  },
  {
   "cell_type": "markdown",
   "metadata": {},
   "source": [
    "Correlation between variables:"
   ]
  },
  {
   "cell_type": "code",
   "execution_count": 18,
   "metadata": {},
   "outputs": [
    {
     "data": {
      "text/plain": [
       "<AxesSubplot:>"
      ]
     },
     "execution_count": 18,
     "metadata": {},
     "output_type": "execute_result"
    },
    {
     "data": {
      "image/png": "[encoded data removed]",
      "text/plain": [
       "<Figure size 1296x1008 with 2 Axes>"
      ]
     },
     "metadata": {
      "needs_background": "light"
     },
     "output_type": "display_data"
    }
   ],
   "source": [
    "plt.figure(figsize=(18,14))\n",
    "sns.heatmap(df.corr())"
   ]
  },
  {
   "cell_type": "markdown",
   "metadata": {},
   "source": [
    "We can have a look at how the variables are distributed:"
   ]
  },
  {
   "cell_type": "code",
   "execution_count": null,
   "metadata": {},
   "outputs": [],
   "source": [
    "for e in df.columns :\n",
    "    #plt.hist(x=e,y='TARGET_FLAG')\n",
    "    df[e].hist(bins=100,figsize=(15,5))\n",
    "    plt.title(e)\n",
    "    plt.show()"
   ]
  },
  {
   "cell_type": "markdown",
   "metadata": {},
   "source": [
    "# 2. Model creation\n",
    "\n",
    "The dataset has been cleaned, we are going to create our classification model. Our problem is a binary classification problem. However the dataset is a bit imbalanced and we make the assumption that the two classes don't have the same importance. Indeed the class 1 represents people who did claim money. From the insurer perspective it is important not to miss this behavior. A good classifier would be a one with a relatively low number of false negative. Then instead of using accuracy we will use precision and recall as metrics. "
   ]
  },
  {
   "cell_type": "code",
   "execution_count": 21,
   "metadata": {},
   "outputs": [],
   "source": [
    "from sklearn.model_selection import train_test_split\n",
    "from sklearn.ensemble import RandomForestClassifier\n",
    "#Split data into training/test set\n",
    "X = df.drop(columns=['TARGET_FLAG','TARGET_AMT','INDEX']) \n",
    "columns = X.columns\n",
    "X = X.values\n",
    "y = df['TARGET_FLAG'].values\n",
    "X_train, X_test, y_train, y_test = train_test_split(X, y,stratify=y, test_size=0.2, random_state=42)"
   ]
  },
  {
   "cell_type": "markdown",
   "metadata": {},
   "source": [
    "## 2.1 Features elimination\n",
    "We first use recursive feature elimination to delete features not improving performances"
   ]
  },
  {
   "cell_type": "code",
   "execution_count": 42,
   "metadata": {},
   "outputs": [
    {
     "name": "stdout",
     "output_type": "stream",
     "text": [
      "Optimal number of features :  20\n"
     ]
    },
    {
     "data": {
      "image/png": "[encoded data removed]",
      "text/plain": [
       "<Figure size 432x288 with 1 Axes>"
      ]
     },
     "metadata": {
      "needs_background": "light"
     },
     "output_type": "display_data"
    }
   ],
   "source": [
    "from sklearn.feature_selection import RFECV\n",
    "from sklearn.model_selection import StratifiedKFold\n",
    "min_features_to_select = 1\n",
    "\n",
    "rf = RandomForestClassifier(random_state=42)\n",
    "rfecv = RFECV(estimator=rf, step=1, cv=StratifiedKFold(4),\n",
    "              scoring='f1',   #combine recall and precision\n",
    "              min_features_to_select=min_features_to_select)\n",
    "rfecv.fit(X_train, y_train)\n",
    "\n",
    "print(\"Optimal number of features : \" , rfecv.n_features_)\n",
    "\n",
    "\n",
    "plt.figure()\n",
    "plt.xlabel(\"Number of features selected\")\n",
    "plt.ylabel(\"Cross validation score \")\n",
    "plt.plot(range(min_features_to_select,len(rfecv.grid_scores_) + min_features_to_select),rfecv.grid_scores_)\n",
    "plt.show()\n"
   ]
  },
  {
   "cell_type": "code",
   "execution_count": 26,
   "metadata": {},
   "outputs": [],
   "source": [
    "X = df.drop(columns=['TARGET_FLAG','TARGET_AMT','INDEX','PARENT1','SEX','RED_CAR']) #features to delete\n",
    "columns = X.columns\n",
    "X = X.values\n",
    "y = df['TARGET_FLAG'].values\n",
    "X_train, X_test, y_train, y_test = train_test_split(X, y,stratify=y, test_size=0.2, random_state=42)"
   ]
  },
  {
   "cell_type": "markdown",
   "metadata": {},
   "source": [
    "## 2.2 Model Selection\n",
    "\n",
    "We need to choose a classifier. We will focus only on tree based method such as Random Forest or XGBoost since they tend to have the best performance overall for this type of problem"
   ]
  },
  {
   "cell_type": "code",
   "execution_count": 27,
   "metadata": {},
   "outputs": [
    {
     "name": "stdout",
     "output_type": "stream",
     "text": [
      "Random Forest precision:  0.6706912794820109\n",
      "XGBoost precision:  0.6736401002614198\n",
      "Random Forest recall:  0.3513475961797874\n",
      "XGBoost recall:  0.39547563805104413\n",
      "XGBoost f1:  0.49775501535972994\n",
      "Random Forest f1:  0.4603546081836148\n"
     ]
    },
    {
     "data": {
      "image/png": "[encoded data removed]",
      "text/plain": [
       "<Figure size 432x288 with 1 Axes>"
      ]
     },
     "metadata": {
      "needs_background": "light"
     },
     "output_type": "display_data"
    }
   ],
   "source": [
    "from xgboost import XGBClassifier\n",
    "from sklearn.model_selection import cross_validate\n",
    "cv=StratifiedKFold(4)\n",
    "rf = RandomForestClassifier()\n",
    "cv_score = cross_validate(rf,X_train,y_train,scoring=['precision','recall','f1'],cv=cv)\n",
    "rf_mean_recall = np.mean(cv_score['test_recall'])\n",
    "rf_mean_precision = np.mean(cv_score['test_precision'])\n",
    "rf_mean_f1 = np.mean(cv_score['test_f1'])\n",
    "\n",
    "xgb = XGBClassifier()\n",
    "cv_score = cross_validate(xgb,X_train,y_train,scoring=['precision','recall','f1'],cv=cv)\n",
    "xgb_mean_recall = np.mean(cv_score['test_recall'])\n",
    "xgb_mean_precision = np.mean(cv_score['test_precision'])\n",
    "xgb_mean_f1 = np.mean(cv_score['test_f1'])\n",
    "\n",
    "print(\"Random Forest precision: \",rf_mean_precision)\n",
    "print(\"XGBoost precision: \",xgb_mean_precision)\n",
    "print(\"Random Forest recall: \",rf_mean_recall)\n",
    "print(\"XGBoost recall: \",xgb_mean_recall)\n",
    "print(\"XGBoost f1: \",xgb_mean_f1)\n",
    "print(\"Random Forest f1: \",rf_mean_f1)\n",
    "\n",
    "labels = ['RandomForest', 'XGBoost']\n",
    "recall = [rf_mean_recall, xgb_mean_recall]\n",
    "precision = [rf_mean_precision, xgb_mean_precision]\n",
    "f1 = [rf_mean_f1, xgb_mean_f1]\n",
    "\n",
    "x = np.arange(len(labels))  # the label locations\n",
    "width = 0.3  # the width of the bars\n",
    "\n",
    "fig, ax = plt.subplots()\n",
    "rects1 = ax.bar(x - width, recall, width, label='recall')\n",
    "rects2 = ax.bar(x , f1, width, label='f1')\n",
    "rects3 = ax.bar(x + width, precision, width, label='precision')\n",
    "\n",
    "# Add some text for labels, title and custom x-axis tick labels, etc.\n",
    "ax.set_ylabel('Scores')\n",
    "ax.set_title('Performance comparison')\n",
    "ax.set_xticks(x)\n",
    "ax.set_xticklabels(labels)\n",
    "ax.legend()\n",
    "plt.show()\n"
   ]
  },
  {
   "cell_type": "markdown",
   "metadata": {},
   "source": [
    "XGboost model seems to perform better on recall which is important here so we are going to focus on XGBoost"
   ]
  },
  {
   "cell_type": "markdown",
   "metadata": {},
   "source": [
    "## 2.3 Features Engineering\n",
    "\n",
    "In order to improve performance we will try to engineer new features that could trigger the claim"
   ]
  },
  {
   "cell_type": "code",
   "execution_count": 28,
   "metadata": {},
   "outputs": [
    {
     "data": {
      "text/html": [
       "<div>\n",
       "<style scoped>\n",
       "    .dataframe tbody tr th:only-of-type {\n",
       "        vertical-align: middle;\n",
       "    }\n",
       "\n",
       "    .dataframe tbody tr th {\n",
       "        vertical-align: top;\n",
       "    }\n",
       "\n",
       "    .dataframe thead th {\n",
       "        text-align: right;\n",
       "    }\n",
       "</style>\n",
       "<table border=\"1\" class=\"dataframe\">\n",
       "  <thead>\n",
       "    <tr style=\"text-align: right;\">\n",
       "      <th></th>\n",
       "      <th>INDEX</th>\n",
       "      <th>TARGET_FLAG</th>\n",
       "      <th>TARGET_AMT</th>\n",
       "      <th>KIDSDRIV</th>\n",
       "      <th>AGE</th>\n",
       "      <th>HOMEKIDS</th>\n",
       "      <th>YOJ</th>\n",
       "      <th>INCOME</th>\n",
       "      <th>PARENT1</th>\n",
       "      <th>HOME_VAL</th>\n",
       "      <th>...</th>\n",
       "      <th>CAR_TYPE</th>\n",
       "      <th>RED_CAR</th>\n",
       "      <th>OLDCLAIM</th>\n",
       "      <th>CLM_FREQ</th>\n",
       "      <th>REVOKED</th>\n",
       "      <th>MVR_PTS</th>\n",
       "      <th>CAR_AGE</th>\n",
       "      <th>URBANICITY</th>\n",
       "      <th>CLAIM_MEAN</th>\n",
       "      <th>CAR_USE_URBANICITY</th>\n",
       "    </tr>\n",
       "  </thead>\n",
       "  <tbody>\n",
       "    <tr>\n",
       "      <th>0</th>\n",
       "      <td>1</td>\n",
       "      <td>0</td>\n",
       "      <td>0.0</td>\n",
       "      <td>0</td>\n",
       "      <td>60.0</td>\n",
       "      <td>0</td>\n",
       "      <td>11.0</td>\n",
       "      <td>67349.000000</td>\n",
       "      <td>0</td>\n",
       "      <td>0.000000</td>\n",
       "      <td>...</td>\n",
       "      <td>0</td>\n",
       "      <td>1</td>\n",
       "      <td>4461</td>\n",
       "      <td>2</td>\n",
       "      <td>0</td>\n",
       "      <td>3</td>\n",
       "      <td>18.0</td>\n",
       "      <td>0</td>\n",
       "      <td>640.096924</td>\n",
       "      <td>1</td>\n",
       "    </tr>\n",
       "    <tr>\n",
       "      <th>1</th>\n",
       "      <td>2</td>\n",
       "      <td>0</td>\n",
       "      <td>0.0</td>\n",
       "      <td>0</td>\n",
       "      <td>43.0</td>\n",
       "      <td>0</td>\n",
       "      <td>11.0</td>\n",
       "      <td>91449.000000</td>\n",
       "      <td>0</td>\n",
       "      <td>257252.000000</td>\n",
       "      <td>...</td>\n",
       "      <td>0</td>\n",
       "      <td>1</td>\n",
       "      <td>0</td>\n",
       "      <td>0</td>\n",
       "      <td>0</td>\n",
       "      <td>0</td>\n",
       "      <td>1.0</td>\n",
       "      <td>0</td>\n",
       "      <td>0.000000</td>\n",
       "      <td>0</td>\n",
       "    </tr>\n",
       "    <tr>\n",
       "      <th>2</th>\n",
       "      <td>4</td>\n",
       "      <td>0</td>\n",
       "      <td>0.0</td>\n",
       "      <td>0</td>\n",
       "      <td>35.0</td>\n",
       "      <td>1</td>\n",
       "      <td>10.0</td>\n",
       "      <td>16039.000000</td>\n",
       "      <td>0</td>\n",
       "      <td>124191.000000</td>\n",
       "      <td>...</td>\n",
       "      <td>5</td>\n",
       "      <td>0</td>\n",
       "      <td>38690</td>\n",
       "      <td>2</td>\n",
       "      <td>0</td>\n",
       "      <td>3</td>\n",
       "      <td>10.0</td>\n",
       "      <td>0</td>\n",
       "      <td>5551.524323</td>\n",
       "      <td>1</td>\n",
       "    </tr>\n",
       "    <tr>\n",
       "      <th>3</th>\n",
       "      <td>5</td>\n",
       "      <td>0</td>\n",
       "      <td>0.0</td>\n",
       "      <td>0</td>\n",
       "      <td>51.0</td>\n",
       "      <td>0</td>\n",
       "      <td>14.0</td>\n",
       "      <td>140271.059344</td>\n",
       "      <td>0</td>\n",
       "      <td>306251.000000</td>\n",
       "      <td>...</td>\n",
       "      <td>0</td>\n",
       "      <td>1</td>\n",
       "      <td>0</td>\n",
       "      <td>0</td>\n",
       "      <td>0</td>\n",
       "      <td>0</td>\n",
       "      <td>6.0</td>\n",
       "      <td>0</td>\n",
       "      <td>0.000000</td>\n",
       "      <td>1</td>\n",
       "    </tr>\n",
       "    <tr>\n",
       "      <th>4</th>\n",
       "      <td>6</td>\n",
       "      <td>0</td>\n",
       "      <td>0.0</td>\n",
       "      <td>0</td>\n",
       "      <td>50.0</td>\n",
       "      <td>0</td>\n",
       "      <td>12.0</td>\n",
       "      <td>114986.000000</td>\n",
       "      <td>0</td>\n",
       "      <td>243925.000000</td>\n",
       "      <td>...</td>\n",
       "      <td>5</td>\n",
       "      <td>0</td>\n",
       "      <td>19217</td>\n",
       "      <td>2</td>\n",
       "      <td>1</td>\n",
       "      <td>3</td>\n",
       "      <td>17.0</td>\n",
       "      <td>0</td>\n",
       "      <td>2757.395785</td>\n",
       "      <td>1</td>\n",
       "    </tr>\n",
       "    <tr>\n",
       "      <th>5</th>\n",
       "      <td>7</td>\n",
       "      <td>1</td>\n",
       "      <td>2946.0</td>\n",
       "      <td>0</td>\n",
       "      <td>34.0</td>\n",
       "      <td>1</td>\n",
       "      <td>12.0</td>\n",
       "      <td>125301.000000</td>\n",
       "      <td>1</td>\n",
       "      <td>0.000000</td>\n",
       "      <td>...</td>\n",
       "      <td>3</td>\n",
       "      <td>0</td>\n",
       "      <td>0</td>\n",
       "      <td>0</td>\n",
       "      <td>0</td>\n",
       "      <td>0</td>\n",
       "      <td>7.0</td>\n",
       "      <td>0</td>\n",
       "      <td>0.000000</td>\n",
       "      <td>0</td>\n",
       "    </tr>\n",
       "    <tr>\n",
       "      <th>6</th>\n",
       "      <td>8</td>\n",
       "      <td>0</td>\n",
       "      <td>0.0</td>\n",
       "      <td>0</td>\n",
       "      <td>54.0</td>\n",
       "      <td>0</td>\n",
       "      <td>12.0</td>\n",
       "      <td>18755.000000</td>\n",
       "      <td>0</td>\n",
       "      <td>93722.735035</td>\n",
       "      <td>...</td>\n",
       "      <td>5</td>\n",
       "      <td>0</td>\n",
       "      <td>0</td>\n",
       "      <td>0</td>\n",
       "      <td>0</td>\n",
       "      <td>0</td>\n",
       "      <td>1.0</td>\n",
       "      <td>0</td>\n",
       "      <td>0.000000</td>\n",
       "      <td>1</td>\n",
       "    </tr>\n",
       "    <tr>\n",
       "      <th>7</th>\n",
       "      <td>11</td>\n",
       "      <td>1</td>\n",
       "      <td>4021.0</td>\n",
       "      <td>1</td>\n",
       "      <td>37.0</td>\n",
       "      <td>2</td>\n",
       "      <td>12.0</td>\n",
       "      <td>107961.000000</td>\n",
       "      <td>0</td>\n",
       "      <td>333680.000000</td>\n",
       "      <td>...</td>\n",
       "      <td>4</td>\n",
       "      <td>1</td>\n",
       "      <td>2374</td>\n",
       "      <td>1</td>\n",
       "      <td>1</td>\n",
       "      <td>10</td>\n",
       "      <td>7.0</td>\n",
       "      <td>0</td>\n",
       "      <td>290.023036</td>\n",
       "      <td>0</td>\n",
       "    </tr>\n",
       "    <tr>\n",
       "      <th>8</th>\n",
       "      <td>12</td>\n",
       "      <td>1</td>\n",
       "      <td>2501.0</td>\n",
       "      <td>0</td>\n",
       "      <td>34.0</td>\n",
       "      <td>0</td>\n",
       "      <td>10.0</td>\n",
       "      <td>62978.000000</td>\n",
       "      <td>0</td>\n",
       "      <td>0.000000</td>\n",
       "      <td>...</td>\n",
       "      <td>5</td>\n",
       "      <td>0</td>\n",
       "      <td>0</td>\n",
       "      <td>0</td>\n",
       "      <td>0</td>\n",
       "      <td>0</td>\n",
       "      <td>1.0</td>\n",
       "      <td>0</td>\n",
       "      <td>0.000000</td>\n",
       "      <td>1</td>\n",
       "    </tr>\n",
       "    <tr>\n",
       "      <th>9</th>\n",
       "      <td>13</td>\n",
       "      <td>0</td>\n",
       "      <td>0.0</td>\n",
       "      <td>0</td>\n",
       "      <td>50.0</td>\n",
       "      <td>0</td>\n",
       "      <td>7.0</td>\n",
       "      <td>106952.000000</td>\n",
       "      <td>0</td>\n",
       "      <td>0.000000</td>\n",
       "      <td>...</td>\n",
       "      <td>4</td>\n",
       "      <td>0</td>\n",
       "      <td>0</td>\n",
       "      <td>0</td>\n",
       "      <td>0</td>\n",
       "      <td>1</td>\n",
       "      <td>17.0</td>\n",
       "      <td>1</td>\n",
       "      <td>0.000000</td>\n",
       "      <td>2</td>\n",
       "    </tr>\n",
       "  </tbody>\n",
       "</table>\n",
       "<p>10 rows × 28 columns</p>\n",
       "</div>"
      ],
      "text/plain": [
       "   INDEX  TARGET_FLAG  TARGET_AMT  KIDSDRIV   AGE  HOMEKIDS   YOJ  \\\n",
       "0      1            0         0.0         0  60.0         0  11.0   \n",
       "1      2            0         0.0         0  43.0         0  11.0   \n",
       "2      4            0         0.0         0  35.0         1  10.0   \n",
       "3      5            0         0.0         0  51.0         0  14.0   \n",
       "4      6            0         0.0         0  50.0         0  12.0   \n",
       "5      7            1      2946.0         0  34.0         1  12.0   \n",
       "6      8            0         0.0         0  54.0         0  12.0   \n",
       "7     11            1      4021.0         1  37.0         2  12.0   \n",
       "8     12            1      2501.0         0  34.0         0  10.0   \n",
       "9     13            0         0.0         0  50.0         0   7.0   \n",
       "\n",
       "          INCOME  PARENT1       HOME_VAL  ...  CAR_TYPE  RED_CAR  OLDCLAIM  \\\n",
       "0   67349.000000        0       0.000000  ...         0        1      4461   \n",
       "1   91449.000000        0  257252.000000  ...         0        1         0   \n",
       "2   16039.000000        0  124191.000000  ...         5        0     38690   \n",
       "3  140271.059344        0  306251.000000  ...         0        1         0   \n",
       "4  114986.000000        0  243925.000000  ...         5        0     19217   \n",
       "5  125301.000000        1       0.000000  ...         3        0         0   \n",
       "6   18755.000000        0   93722.735035  ...         5        0         0   \n",
       "7  107961.000000        0  333680.000000  ...         4        1      2374   \n",
       "8   62978.000000        0       0.000000  ...         5        0         0   \n",
       "9  106952.000000        0       0.000000  ...         4        0         0   \n",
       "\n",
       "  CLM_FREQ  REVOKED  MVR_PTS  CAR_AGE  URBANICITY   CLAIM_MEAN  \\\n",
       "0        2        0        3     18.0           0   640.096924   \n",
       "1        0        0        0      1.0           0     0.000000   \n",
       "2        2        0        3     10.0           0  5551.524323   \n",
       "3        0        0        0      6.0           0     0.000000   \n",
       "4        2        1        3     17.0           0  2757.395785   \n",
       "5        0        0        0      7.0           0     0.000000   \n",
       "6        0        0        0      1.0           0     0.000000   \n",
       "7        1        1       10      7.0           0   290.023036   \n",
       "8        0        0        0      1.0           0     0.000000   \n",
       "9        0        0        1     17.0           1     0.000000   \n",
       "\n",
       "   CAR_USE_URBANICITY  \n",
       "0                   1  \n",
       "1                   0  \n",
       "2                   1  \n",
       "3                   1  \n",
       "4                   1  \n",
       "5                   0  \n",
       "6                   1  \n",
       "7                   0  \n",
       "8                   1  \n",
       "9                   2  \n",
       "\n",
       "[10 rows x 28 columns]"
      ]
     },
     "execution_count": 28,
     "metadata": {},
     "output_type": "execute_result"
    },
    {
     "data": {
      "image/png": "[encoded data removed]",
      "text/plain": [
       "<Figure size 432x288 with 1 Axes>"
      ]
     },
     "metadata": {
      "needs_background": "light"
     },
     "output_type": "display_data"
    }
   ],
   "source": [
    "\n",
    "#First we to multiply claim frequancy with oldclaim to get a mean claim value\n",
    "df_engineered = df.copy()\n",
    "fq = df_engineered.groupby('CLM_FREQ').size()/len(df_engineered)    \n",
    "df_engineered.loc[:,'CLAIM_MEAN'] = df_engineered['CLM_FREQ'].map(fq)*df_engineered['OLDCLAIM']\n",
    "\n",
    "\n",
    "#We can also try to segment groups by combining different categorical value. For example we can combine car use with the area\n",
    "df_engineered.loc[:,'CAR_USE_URBANICITY'] = df_engineered.apply(lambda x : str(x['URBANICITY']) + '_'+ str(x['CAR_USE']),axis=1)\n",
    "\n",
    "le = LabelEncoder()\n",
    "df_engineered.loc[:,'CAR_USE_URBANICITY'] = le.fit_transform(df_engineered['CAR_USE_URBANICITY'])\n",
    "\n",
    "\n",
    "fq.plot.bar(stacked = True)   \n",
    "df_engineered.head(10) "
   ]
  },
  {
   "cell_type": "code",
   "execution_count": 29,
   "metadata": {},
   "outputs": [],
   "source": [
    "#df_engineered = df.copy()['TARGET_FLAG','TARGET_AMT','INDEX','PARENT1','SEX','RED_CAR']\n",
    "y = df_engineered['TARGET_FLAG'].values\n",
    "df_engineered = df_engineered.drop(columns=['TARGET_FLAG','TARGET_AMT','SEX','INDEX','PARENT1','RED_CAR']) \n",
    "columns = df_engineered.columns\n",
    "X = df_engineered.values\n",
    "X_train, X_test, y_train, y_test = train_test_split(X, y,stratify=y, test_size=0.2, random_state=42)"
   ]
  },
  {
   "cell_type": "code",
   "execution_count": null,
   "metadata": {},
   "outputs": [],
   "source": [
    "xgb = XGBClassifier()\n",
    "xgb.fit(X_train,y_train)\n",
    "\n",
    "pd.Series(xgb.feature_importances_, index=columns).nlargest(20).plot(kind='barh')"
   ]
  },
  {
   "cell_type": "markdown",
   "metadata": {},
   "source": [
    "Both features seem to have importance for the algorithm. Let's check if it can improve cross validated perfomance:"
   ]
  },
  {
   "cell_type": "code",
   "execution_count": 32,
   "metadata": {},
   "outputs": [
    {
     "name": "stdout",
     "output_type": "stream",
     "text": [
      "XGBoost precision:  0.6813919730521577\n",
      "XGBoost recall:  0.40418712566772785\n",
      "XGBoost f1:  0.5070955976805732\n"
     ]
    },
    {
     "data": {
      "image/png": "[encoded data removed]",
      "text/plain": [
       "<Figure size 432x288 with 1 Axes>"
      ]
     },
     "metadata": {
      "needs_background": "light"
     },
     "output_type": "display_data"
    }
   ],
   "source": [
    "cv=StratifiedKFold(4)\n",
    "xgb = XGBClassifier()\n",
    "\n",
    "cv_score = cross_validate(xgb,X_train,y_train,scoring=['precision','recall','f1'],cv=cv)\n",
    "xgb_mean_recall = np.mean(cv_score['test_recall'])\n",
    "xgb_mean_precision = np.mean(cv_score['test_precision'])\n",
    "xgb_mean_f1 = np.mean(cv_score['test_f1'])\n",
    "\n",
    "print(\"XGBoost precision: \",xgb_mean_precision)\n",
    "print(\"XGBoost recall: \",xgb_mean_recall)\n",
    "print(\"XGBoost f1: \",xgb_mean_f1)\n",
    "\n",
    "labels = ['XGBoost']\n",
    "recall = [xgb_mean_recall]\n",
    "precision = [ xgb_mean_precision]\n",
    "f1 = [ xgb_mean_f1]\n",
    "\n",
    "x = np.arange(len(labels))  # the label locations\n",
    "width = 0.3  # the width of the bars\n",
    "\n",
    "fig, ax = plt.subplots()\n",
    "rects1 = ax.bar(x - width, recall, width, label='recall')\n",
    "rects2 = ax.bar(x , f1, width, label='f1')\n",
    "rects3 = ax.bar(x + width, precision, width, label='precision')\n",
    "\n",
    "# Add some text for labels, title and custom x-axis tick labels, etc.\n",
    "ax.set_ylabel('Scores')\n",
    "ax.set_title('Performance comparison')\n",
    "ax.set_xticks(x)\n",
    "ax.set_xticklabels(labels)\n",
    "ax.legend()\n",
    "plt.show()"
   ]
  },
  {
   "cell_type": "markdown",
   "metadata": {},
   "source": [
    "The new features are useful but it is only slighlty improving performance. We might try to different combination of features to create more value for the classifier."
   ]
  },
  {
   "cell_type": "markdown",
   "metadata": {},
   "source": [
    "## 2.4 Hyperparameter optimization\n",
    "In order to improve performance we can also tune the different parameters of XGBoost"
   ]
  },
  {
   "cell_type": "code",
   "execution_count": 33,
   "metadata": {},
   "outputs": [],
   "source": [
    "from sklearn.model_selection import RandomizedSearchCV\n",
    "\n",
    "#Search space\n",
    "hparams = {\"learning_rate\"    : [0.05, 0.15, 0.25, 0.30,0.4,0.5 ] ,\n",
    " \"max_depth\"        : [ 3, 4, 5, 6, 8, 10, 12, 15,17],\n",
    " \"min_child_weight\" : [ 1, 3, 5, 7 ],\n",
    " \"gamma\"            : [ 0.0, 0.1, 0.2 , 0.3, 0.4 ],\n",
    " \"scale_pos_weight\" : [1,2,4,6],\n",
    " \"colsample_bytree\" : [ 0.3, 0.4, 0.5 , 0.7 ] }"
   ]
  },
  {
   "cell_type": "markdown",
   "metadata": {},
   "source": [
    "We perform Randomized search with a cross validation since it is less greedy than grid search. We are going to optimize f1 score"
   ]
  },
  {
   "cell_type": "code",
   "execution_count": 34,
   "metadata": {},
   "outputs": [
    {
     "data": {
      "text/plain": [
       "\"xgb = XGBClassifier()\\ncv=StratifiedKFold(4)\\n\\ngcv = RandomizedSearchCV(xgb, hparams,scoring='f1',n_iter=300,n_jobs=-1,cv=cv)\\ngcv.fit(X_train,y_train)\""
      ]
     },
     "execution_count": 34,
     "metadata": {},
     "output_type": "execute_result"
    }
   ],
   "source": [
    "#Uncomment to run. It might take a few minutes. Skip to next cell for results\n",
    "\n",
    "\"\"\"xgb = XGBClassifier()\n",
    "cv=StratifiedKFold(4)\n",
    "\n",
    "gcv = RandomizedSearchCV(xgb, hparams,scoring='f1',n_iter=300,n_jobs=-1,cv=cv)\n",
    "gcv.fit(X_train,y_train)\"\"\""
   ]
  },
  {
   "cell_type": "markdown",
   "metadata": {},
   "source": [
    "Retrain with optimal parameters:"
   ]
  },
  {
   "cell_type": "code",
   "execution_count": 35,
   "metadata": {},
   "outputs": [
    {
     "data": {
      "text/plain": [
       "XGBClassifier(colsample_bytree=0.7, gamma=0.4, learning_rate=0.05, max_depth=12,\n",
       "              min_child_weight=7, scale_pos_weight=4)"
      ]
     },
     "execution_count": 35,
     "metadata": {},
     "output_type": "execute_result"
    }
   ],
   "source": [
    "xgb_opt = XGBClassifier(min_child_weight=7,max_depth=12,learning_rate=0.05,gamma=0.4,colsample_bytree= 0.7,scale_pos_weight=4)\n",
    "xgb_opt.fit(X_train,y_train)"
   ]
  },
  {
   "cell_type": "code",
   "execution_count": 36,
   "metadata": {},
   "outputs": [
    {
     "name": "stdout",
     "output_type": "stream",
     "text": [
      "Confusion matrix for optimized XGBoost\n"
     ]
    },
    {
     "data": {
      "image/png": "[encoded data removed]",
      "text/plain": [
       "<Figure size 432x288 with 2 Axes>"
      ]
     },
     "metadata": {
      "needs_background": "light"
     },
     "output_type": "display_data"
    }
   ],
   "source": [
    "from sklearn.metrics import plot_confusion_matrix\n",
    "print(\"Confusion matrix for optimized XGBoost\")\n",
    "plot_confusion_matrix(xgb_opt,X_test,y_test)\n",
    "plt.show()"
   ]
  },
  {
   "cell_type": "code",
   "execution_count": 37,
   "metadata": {},
   "outputs": [
    {
     "name": "stdout",
     "output_type": "stream",
     "text": [
      "Confusion matrix for initial XGBoost\n"
     ]
    },
    {
     "data": {
      "image/png": "[encoded data removed]",
      "text/plain": [
       "<Figure size 432x288 with 2 Axes>"
      ]
     },
     "metadata": {
      "needs_background": "light"
     },
     "output_type": "display_data"
    }
   ],
   "source": [
    "xgb = XGBClassifier()\n",
    "xgb.fit(X_train,y_train)\n",
    "print(\"Confusion matrix for initial XGBoost\")\n",
    "plot_confusion_matrix(xgb,X_test,y_test)\n",
    "plt.show()"
   ]
  },
  {
   "cell_type": "markdown",
   "metadata": {},
   "source": [
    "As we can see with the confusion matrix, the optimized XGBoost miss less claims but tends to see false claims. There is a tradeoff between precision and recall. This is summarized with the following precision recall curve: "
   ]
  },
  {
   "cell_type": "code",
   "execution_count": 38,
   "metadata": {},
   "outputs": [
    {
     "name": "stdout",
     "output_type": "stream",
     "text": [
      "xgb opt: f1=0.609 auc=0.660\n",
      "xgb opt recall:  0.7215777262180975\n",
      "xgb opt precision:  0.5262267343485617\n",
      "xgb: f1=0.548 auc=0.637\n",
      "xgb recall:  0.44779582366589327\n",
      "xgb precision:  0.706959706959707\n"
     ]
    },
    {
     "data": {
      "image/png": "[encoded data removed]",
      "text/plain": [
       "<Figure size 432x288 with 1 Axes>"
      ]
     },
     "metadata": {
      "needs_background": "light"
     },
     "output_type": "display_data"
    }
   ],
   "source": [
    "from sklearn.metrics import precision_recall_curve,f1_score,auc,recall_score,precision_score\n",
    "xgb_probs_opt = xgb_opt.predict_proba(X_test)\n",
    "xgb_probs = xgb.predict_proba(X_test)\n",
    "# keep probabilities for the positive outcome only\n",
    "xgb_probs_opt = xgb_probs_opt[:, 1]\n",
    "xgb_probs = xgb_probs[:, 1]\n",
    "# predict class values\n",
    "yhat_opt = xgb_opt.predict(X_test)\n",
    "yhat = xgb.predict(X_test)\n",
    "xgb_precision_opt, xgb_recall_opt, _ = precision_recall_curve(y_test, xgb_probs_opt)\n",
    "xgb_precision, xgb_recall, _ = precision_recall_curve(y_test, xgb_probs)\n",
    "xgb_f1_opt, xgb_auc_opt = f1_score(y_test, yhat_opt), auc(xgb_recall_opt, xgb_precision_opt)\n",
    "xgb_f1, xgb_auc = f1_score(y_test, yhat), auc(xgb_recall, xgb_precision)\n",
    "# summarize scores\n",
    "print('xgb opt: f1=%.3f auc=%.3f' % (xgb_f1_opt, xgb_auc_opt))\n",
    "print('xgb opt recall: ',recall_score(y_test, yhat_opt))\n",
    "print('xgb opt precision: ',precision_score(y_test, yhat_opt))\n",
    "\n",
    "print('xgb: f1=%.3f auc=%.3f' % (xgb_f1, xgb_auc))\n",
    "print('xgb recall: ',recall_score(y_test, yhat))\n",
    "print('xgb precision: ',precision_score(y_test, yhat))\n",
    "\n",
    "plt.plot(xgb_recall_opt, xgb_precision_opt, marker='.', label='XGB opt')\n",
    "plt.plot(xgb_recall, xgb_precision, marker='.', label='XGB')\n",
    "plt.xlabel('Recall')\n",
    "plt.ylabel('Precision')\n",
    "plt.legend()\n",
    "plt.show()"
   ]
  },
  {
   "cell_type": "markdown",
   "metadata": {},
   "source": [
    "If you want to improve recall then precision will decline and vice versa. The ideal threshold would depend on the insurer. That threshold would be affected by the loss from each claim in TARGET_AMT value but is it out of the scope of study here. This classification problem is quiet hard since claims are affected by parameters that are not reflected in the data. For example bad weather could trigger a claim. Also some variable are a bit simplistic such as the urban area which is binary. It could be more precise and related to urban density."
   ]
  }
 ],
 "metadata": {
  "kernelspec": {
   "display_name": "Python 3",
   "language": "python",
   "name": "python3"
  },
  "language_info": {
   "codemirror_mode": {
    "name": "ipython",
    "version": 3
   },
   "file_extension": ".py",
   "mimetype": "text/x-python",
   "name": "python",
   "nbconvert_exporter": "python",
   "pygments_lexer": "ipython3",
   "version": "3.7.3"
  }
 },
 "nbformat": 4,
 "nbformat_minor": 4
}
